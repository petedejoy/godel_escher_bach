{
 "cells": [
  {
   "cell_type": "markdown",
   "metadata": {},
   "source": [
    "# Meeting 2:\n",
    "    "
   ]
  },
  {
   "cell_type": "markdown",
   "metadata": {},
   "source": [
    "## Review"
   ]
  },
  {
   "cell_type": "markdown",
   "metadata": {
    "collapsed": true
   },
   "source": [
    "The last chapter introduced some terms and concepts that are going to be found through the rest of the book, so here's a quick overview:\n",
    "\n",
    "A _formal system_ is a system of symbols with a set of rules for manipulation. This is pretty much a bullshit definition, but it'll get more precise as we go further through the book.\n",
    "\n",
    "An _axiom_ in regards to a formal system is just a starting point, a statement given for free that follows the system's rules.\n",
    "\n",
    "A _theorem_ is a \"statement\" in a formal system. It is derived from the axioms and is \"true\" in terms of the formal system.\n",
    "\n",
    "The **MIU** System has the following _rules of production_, rules that can be used to generate \"theorems.\" \n",
    "\n",
    "> Rule I: If you possess a string that ends with **I**, you can add a **U** to the end. \n",
    "Ex: **MIU** -> **MIUI**\n",
    "\n",
    "> Rule II: Suppose you have **Mx**, where x is any string in the MIU system, then you can produce **Mxx**.\n",
    "Ex: **MIIU** -> **MIIUIIU**\n",
    "\n",
    "> Rule III: If **III** ocurs in one of the strings in your collection, you can make  a  new string with **U** in place of **III**.\n",
    "Ex: **MIIIUIII** -> **MUUU**\n",
    "\n",
    "The **MU** puzzle asks to start with **MI** (a given axiom),  and use the three rules above to get to **MU**.\n",
    "\n",
    "We played around with this a little bit and found that it is in fact impossible. The only way to reduce the number of **I**s is to use **Rule III**. However, we're trying to get to a string with some multiple of 3 number of **I**s, and we can only double the number of **I**s (**Rule II**), we're never going to get a number of **I**s that is divisible by 3, and therefore won't be able to go from  **MI** to **MU**. \n",
    "\n",
    "Though this result isn't groundbreaking or anything, Hofstader uses the entire chapter as essentially a pun. \n",
    "\n",
    "The letters **M, U, and I** were chosen for the puzzle from the 3 types of thinking he describes in the chapter.\n",
    "\n",
    "***Mechanical (M) Mode***: This is when you mindlessly go about using the rules to list out all the strings you can using the roles. Computers are really good at mechnical mode, but you're never going to come to the conclusion that it's impossible to go from **MI** to **MU** in mechnical mode.\n",
    "\n",
    "***Intelligent (I) Mode***: This is when you go about a smarter way of **M** mode. You list strings intelligently; you know that **Rule III** is the only Rule you can use to shorten a string, you know that **Rule II** is how you lengthen strings, etc. Good code is in **I** mode.\n",
    "\n",
    "***Un, or Zen (U) Mode***: This is when you step outside the system to observe something about the system, and will be an underlying theme in the book going forward.\n",
    "\n",
    "\n",
    "We were only able to figure out that we can't go from  **MI** to **MU** because of things not found in the formal **MU** system. There's no concept of division, remainders, or anything else like that in the **MU** system, only the three rules listed. However, by stepping outside of the system, we were able to come to conclusions that would have been impossible had we stayed in the system, no matters how \"intelligent\" we were about the rules.\n",
    "\n",
    "***In other words, no matters how _intelligent_ (**MI**) you are, there'll be things you'll never know unless you break out of the rules that define your system, unless you enter some sort of _zen_ mode (**MU**).***\n",
    "\n",
    "_\"Of course, there are cases where only a rare individual will have the vision to perceive\n",
    "a system which governs many people’ lives, a system which had never before even been\n",
    "recognized as a system; then such people often devote their lives to convincing other\n",
    "people that the system really is there, and that it ought to be exited from!_\""
   ]
  },
  {
   "cell_type": "markdown",
   "metadata": {},
   "source": [
    "## _Two-Part Intervention_"
   ]
  },
  {
   "cell_type": "markdown",
   "metadata": {},
   "source": [
    "_Is reasoning possible?_"
   ]
  },
  {
   "cell_type": "markdown",
   "metadata": {},
   "source": [
    "This section was actually authored by Lewis Carrol (who Hofstader bases much of his writing style from), the\n",
    "author of _Alice in Wonderland_. \n",
    "\n",
    "Charles Lutwidge Dodgson, known by his pen name, Lewis Carrol was actually also a mathematician. He was probably 60% genius and 40% psychopath. Really weird to read about.\n",
    "\n",
    "He wrote almost 12 books relating to mathematical logic, linear algebra, and geometry. He was also a noted poet:"
   ]
  },
  {
   "cell_type": "markdown",
   "metadata": {},
   "source": [
    "> I often wondered when I cursed,\n",
    "\n",
    "> Often feared where I would be –\n",
    "\n",
    "> Wondered where she’d yield her love\n",
    "\n",
    "> When I yield, so will she.\n",
    "\n",
    "> I would her will be pitied!\n",
    "\n",
    "> Cursed be love! She pitied me"
   ]
  },
  {
   "cell_type": "markdown",
   "metadata": {},
   "source": [
    "He loved working in his math+logic stuff into his poetry. The \"square poem\" above reads the same row-wise and column wise.\n",
    "\n",
    "In mathematics, matricies like this are called  _symmetric_ matricies. More formally:\n",
    "\n",
    "A matrix A is *symmetric* if and only if A = A<sup>T</sup>. More on this in (_hopefully_) a couple of months."
   ]
  },
  {
   "cell_type": "markdown",
   "metadata": {},
   "source": [
    "This dialogue between the Tortoise and Achillies is about reasoning, particularly syllogism. The dialogue goes:\n",
    "\n",
    ">(A): Things that are equal to the same are equal to each other.\n",
    "\n",
    ">(B): The two sides of this Triangle are things that are equal to the same.\n",
    "\n",
    ">(Z): The two sides of this Triangle are equal to each other.\n",
    "\n",
    "Even if you don't accept A & B, you can accept the reasoning used (i.e. you can accept the logical progression without accepting the initial premises).\n",
    "\n",
    "Let's say you accept A & B as true, but not Z. \n",
    "\n",
    ">(C): If A & B are true, Z must be true.\n",
    "\n",
    "The next logical progression becomes:\n",
    "\n",
    ">(D): If A, B, and C are true, Z must be true.\n",
    "\n",
    "But then that becomes:\n",
    "\n",
    ">(E): If A, B, C, and E are true, Z must be true.\n",
    "\n",
    "And so on..."
   ]
  },
  {
   "cell_type": "markdown",
   "metadata": {},
   "source": [
    "## Meaning and Form in Mathematics"
   ]
  },
  {
   "cell_type": "markdown",
   "metadata": {},
   "source": [
    "_The Carrollian Dialogue, with its wit subtracted out, still leaves a deep  philosophical problem:_\n",
    "\n",
    "_**Do words and thoughts follow formal rules, or do they not?**_"
   ]
  },
  {
   "cell_type": "markdown",
   "metadata": {},
   "source": [
    "### The pq-System."
   ]
  },
  {
   "cell_type": "markdown",
   "metadata": {},
   "source": [
    "Just like last chapter, Hofstader is defining another formal system. The _pq_ system, though a bit more complicated than MIU, only has a few rules:"
   ]
  },
  {
   "cell_type": "markdown",
   "metadata": {},
   "source": [
    "Definition: _x_p-q_x_ is an axiom, whenever _x_ is composed of hyphens.\n",
    "    \n",
    "Remember, an axiom is just a starting point, a truth you start off with. \n",
    "\n",
    "Rule: Suppose _x_ , _y_ , and _z_ all stand for particular strings containing only hyphens. And suppose that\n",
    "_x_, _y_, and _z_ is known to be a theorem. Then _x_p-q_z_ is a theorem."
   ]
  },
  {
   "cell_type": "markdown",
   "metadata": {},
   "source": [
    "We can play around with these rules a bit (i.e. sub in an arbitrary amount of hyphens for _x_) and we'll notice that\n",
    "the _pq_ system is just addition."
   ]
  },
  {
   "cell_type": "markdown",
   "metadata": {},
   "source": [
    "If xpyqz is a theorem, then xpy-qz- is a theorem equates to saying \"if x + y = z, then x+y+1 = z+1\""
   ]
  },
  {
   "cell_type": "markdown",
   "metadata": {
    "collapsed": true
   },
   "source": [
    "Going from a single axiom to generating theorems is a bottom up procedure, a pretty common method of reasoning.\n",
    "In entrepreneurism, it's starting with your baseline assumptions of a market and building up from there."
   ]
  },
  {
   "cell_type": "markdown",
   "metadata": {},
   "source": [
    "### Isomorphisms Induce Meaning"
   ]
  },
  {
   "cell_type": "markdown",
   "metadata": {},
   "source": [
    "_\"Isomorphism is a word with all the vagueness of words, which is a  defect and an advantage\"_"
   ]
  },
  {
   "cell_type": "markdown",
   "metadata": {},
   "source": [
    "The _pq_ system is just addition, using the symbols p, q, and -. Either through reading about it or applying the\n",
    "bottom up decision procedure, it \"felt\" like addition. That \"feeling,\" the sense that the two different \"structures\"\n",
    "were sommehow related, was observing an isomorphism.\n",
    "\n",
    "There are a million complicated defintions you can find for isomorphism, but at it's core, an _isomorphism_ is any \n",
    "transformation that **preserves information.**\n",
    "\n",
    "In mathematics (and sometimes in life), finding an isomorphism is the \"aha!\" moment. Proving isomorphisms exists can be the topic of PhD thesis or a question on an undergraduate problem set.\n",
    "\n",
    "Isomorphisms are everywhere and are one of the central themes of the book."
   ]
  },
  {
   "cell_type": "markdown",
   "metadata": {},
   "source": [
    "The isomorphism between the _pq_ system and addition exists in the correspondence between the symbols and words,\n",
    "and the statements and theorems. There's a correspondence between '+' and _p_, and '--' and 2, but also in the fact\n",
    "that 2+2=4 is as valid as --p--q---- is a theorem in the _pq_ system."
   ]
  },
  {
   "cell_type": "markdown",
   "metadata": {},
   "source": [
    "### Active _vs._ Passive Meanings"
   ]
  },
  {
   "cell_type": "markdown",
   "metadata": {},
   "source": [
    "_\"Symbols of a formal system,  though initially wihtout meaning,  cannot avoid taking  on \"meaning\" of sorts, at least if \n",
    "an isomorphism is found.\"_"
   ]
  },
  {
   "cell_type": "markdown",
   "metadata": {},
   "source": [
    "A really inuitive example of an isomorphism is in language; symbols lead to words that have meaning. However, the \n",
    "fundamental difference between the two: in language, we can make new statements based  on the meaning of words. In \n",
    "formal systems, statements (theorems) are predefined by rules of production from axioms. You can always add to the statements\n",
    "in a language, but you can only add theorems in formal systems through rules of production.\n",
    "\n",
    "Therefore, even though the \"math\" works out:\n",
    "    --p--p--p--q-------- is **NOT** a  valid theorem in the _pq_ system.\n",
    "    \n",
    "Meaning is _passive_ in formal systems; we can't assign new theorems based off of interpretations we've assigned to\n",
    "symbols. Language has _active_ meaning, we can add to it based off of our interpretation of it."
   ]
  },
  {
   "cell_type": "markdown",
   "metadata": {},
   "source": [
    "### Formal Systems and Reality\n",
    "\n",
    "_\"One could suggest, for instance, that reality is itself nothing but one very complicated formal syste. Its symbols do not move around on paper, but rather in a three-dimensional vacuum; they are elementary particles of  which everything i s composed... The sole axiom is the original configuration of all the particles at the \"beginning of time.\" This is so grandiose a conception however, that it has only the most theoretical interest; and besides, quantum mechanics casts at least  some doubt on even the theoretical worth of this idea. Basically, we are asking  if the  universe operates  deterministically, which is an open question.\"_\n",
    "\n",
    "That quote could pretty much be it's own discussion."
   ]
  },
  {
   "cell_type": "markdown",
   "metadata": {},
   "source": [
    "###  Mathematics and Symbol Manipulation\n",
    "\n",
    "_\"That process is presented to  children as a device which gets the  right answer; lost in the shuffle, for many children,  are the  rhyme and reason of that process.\"_"
   ]
  },
  {
   "cell_type": "markdown",
   "metadata": {},
   "source": [
    "Let's suppose we had a system more compllicated than the _PQ_ system and we found some sort of isomorphism between it\n",
    "and something else based in reality, say mathematics. How can we test if every relationship holds perfectly?\n",
    "\n",
    "As humans, we've gotten good at testing the relationship between formal systems with meaning and arbitrary symbols,\n",
    "particularly through the way we're taught arithmetic (ask me my thoughts about that).\n",
    "\n",
    "We trust the validity of our symbolic manipulations of arithmetic. "
   ]
  },
  {
   "cell_type": "markdown",
   "metadata": {},
   "source": [
    "### The Basic Laws of Arithmetic\n",
    "\n",
    "_\"We take them for granted; we believe them (if we ever think about them) as deeply as we could  believe anything.\"_"
   ]
  },
  {
   "cell_type": "markdown",
   "metadata": {},
   "source": [
    "Counting is pretty standard regardless of who does it (sometimes). Results from counting yields to some of the first\n",
    "math rules you're taught: associativity (a+(b+c) = (a+b)+c) and commutativity (a+b = b+a).\n",
    "\n",
    "\n"
   ]
  },
  {
   "cell_type": "markdown",
   "metadata": {},
   "source": [
    "### Ideal Numbers\n",
    "_\"Numbers as realities misbehave.\"_"
   ]
  },
  {
   "cell_type": "markdown",
   "metadata": {},
   "source": [
    "There's this ancient and innate sense in people that this abstract notion of a number, removed from counting anything in particular\n",
    "should be set in stone. It doesn't matter what we're  using numbers for, the notion of a _number_ should always be the same, formal, clean, exact thing.\n",
    "\n",
    "Are numbers really so clean and true that their rules can be completely captured in a formal system? How do we test things about numbers that can't just be counted out? Questions like \"are there infinitely many primes?\" can never be determined through symbolic manipulation alone.\n",
    "\n"
   ]
  },
  {
   "cell_type": "markdown",
   "metadata": {},
   "source": [
    "### Euclid' Proof\n",
    "\n",
    "\"_Euclid's proof is typical of what constitutes \"real mathematics.\" It is  simple, compelling, and beautiful._\""
   ]
  },
  {
   "cell_type": "markdown",
   "metadata": {},
   "source": [
    "Suppose you have some number N. Take N!, or N factorial, that is multiply all the numbers between N and 1.\n",
    "\n",
    "$$N! = 1 * 2 * 3 * ... (N-2) * (N-1) * N  $$"
   ]
  },
  {
   "cell_type": "markdown",
   "metadata": {},
   "source": [
    ">N!+1 can't be a multiple of 2  (it leaves 1 left over when divided by 2.)\n",
    "\n",
    ">N!+1 can't be a multiple of 3  (it leaves 1 left over when divided by 3.)\n",
    "\n",
    ">N!+1 can't be a multiple of 4  (it leaves 1 left over when divided by 4, and 4 is divisible by 2.)\n",
    "\n",
    ">N!+1 can't be a multiple of 5  (it leaves 1 left over when divided by 5.)\n",
    ">.\n",
    "\n",
    ">.\n",
    "\n",
    ">.\n",
    "\n",
    ">N!+1 can't be a multiple of N  (it leaves 1 left over when divided by N.)\n",
    "\n",
    "Therefore, no matters how big a number you pick, you can always find a prime bigger than that, and since there are \n",
    "infinitely many numbers, there are infinitely many primes.\n",
    "\n",
    "This is more than \"good-evidence\" of there being infinitely many primes; it is proof, indisputable evidence (hence the term \"proof\"). We'll get into this more as we go forward."
   ]
  },
  {
   "cell_type": "markdown",
   "metadata": {},
   "source": [
    "### Getting Around Infinity\n",
    "\n",
    "_\"There are rules  which our usage  of \"all\" obeys. We may be unconscious of them, and claim we operate on  the basis of the meaning of the word; but that after all, is  only a circumlocution for saying that we are guided by rules which we never make explicit. We have used words all our lives in certain patterns, and instead of  calling the patterns \"rules,\" we attribute the courses of our thought process to the \"meaning\" of words. That  discovery was a crucial recognition in the long path towards the formalization of number theory.\"_"
   ]
  },
  {
   "cell_type": "markdown",
   "metadata": {},
   "source": [
    "As is common in many proofs, Euclid's proof tiptoes around infinity by saying \"for any N\" or things along those lines.\n",
    "\n",
    "If we were to delve into the \"...\" above, we'd see the \"atomic\" nature of reasoning, discrete steps that don't look\n",
    "meaningful on their own, but paint a pretty clear picture when you \"zoom out.\""
   ]
  }
 ],
 "metadata": {
  "anaconda-cloud": {},
  "kernelspec": {
   "display_name": "Python [default]",
   "language": "python",
   "name": "python2"
  },
  "language_info": {
   "codemirror_mode": {
    "name": "ipython",
    "version": 2
   },
   "file_extension": ".py",
   "mimetype": "text/x-python",
   "name": "python",
   "nbconvert_exporter": "python",
   "pygments_lexer": "ipython2",
   "version": "2.7.12"
  }
 },
 "nbformat": 4,
 "nbformat_minor": 2
}
