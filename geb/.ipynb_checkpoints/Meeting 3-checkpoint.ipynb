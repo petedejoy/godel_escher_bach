{
 "cells": [
  {
   "cell_type": "markdown",
   "metadata": {},
   "source": [
    "## Meeting 3"
   ]
  },
  {
   "cell_type": "markdown",
   "metadata": {},
   "source": [
    "### Review \n"
   ]
  },
  {
   "cell_type": "markdown",
   "metadata": {},
   "source": [
    "## Sonata for Unaccompanied Achillies\n",
    "\n",
    "_\"Cause everything I'm not made me every thing I am\" - Kanye West_\n",
    "\n",
    "#### What were the general thoughts about the dialogue?\n",
    "\n",
    "> Who was Achillies talking to on the phone?\n",
    "\n",
    "> What's the irony in the Turtoise bending it's neck?\n",
    "\n",
    "\n",
    "#### Did anyone give themselves a headache trying to find the answer to the word puzzles?\n",
    "\n",
    ">_What's a word with **ADAC** consecutively it?\"_\n",
    "\n",
    ">_What's a word that begins with **HE** and ends with HE_.\n",
    "\n",
    ">_What do you think the **degenerate** solution was?_"
   ]
  },
  {
   "cell_type": "markdown",
   "metadata": {
    "collapsed": true
   },
   "source": [
    "Aside about Jeff Bezsos:\n",
    "> To prepare a presentation for Jeff, first make damn sure you know everything there is to know about the subject. Then write a prose narrative explaining the problem and solution(s).   Write it exactly the way you would write it for a leading professor or industry expert on the subject.\n",
    "That is:  assume he already knows everything about it.  Assume he knows more than you do about it.  Even if you have groundbreakingly original ideas in your material, just pretend it’s old hat for him.  Write your prose in the succinct, direct, no-explanations way that you would write for a world-leading expert on the material.\n",
    "\n",
    ">**You’re almost done.  The last step before you’re ready to present to him is this:  Delete every third paragraph.**\n",
    "\n",
    ">Now you’re ready to present!\n",
    "\n",
    ">Back in the mid-1800s there was this famous-ish composer/pianist named Franz Liszt.  He is widely thought to have been the greatest sight-reader who ever lived. _He could sight-read anything you gave him, including crazy stuff not even written for piano, like opera scores.  He was so staggeringly good at sight-reading that his brain was only fully engaged on the first run-through.  **After that he’d get bored and start embellishing with his own additions.**_\n",
    "\n",
    ">Bezos is so goddamned smart that you have to turn it into a game for him or he’ll be bored and annoyed with you.  That was my first realization about him.  Who knows how smart he was before he became a billionaire -- let’s just assume it was “really frigging smart”, since he did build Amazon from scratch.  But for years he’s had armies of people taking care of everything for him.  He doesn’t have to do anything at all except dress himself in the morning and read presentations all day long.  So he’s really, REALLY good at reading presentations.  He’s like the Franz Liszt of sight-reading presentations."
   ]
  },
  {
   "cell_type": "markdown",
   "metadata": {},
   "source": [
    "> **How does this relate to the dialogue?**"
   ]
  },
  {
   "cell_type": "markdown",
   "metadata": {},
   "source": [
    "## Figure and Ground\n",
    "\n",
    "### Primes vs. Composites.\n",
    "\n",
    "_\"There's a strangeness to the idea that concepts can be captured by simple typographical manipulations.\"_\n",
    "\n",
    "So far, we've been working with formal systems that represent concepts like addition (in _mechanical_ and _intelligent_ mode), but can capture more in _zen_ mode (think **MIU** system and relatively prime numbers).\n",
    "\n",
    "Is it possible to form a formal system in which we can differentiate primes and composites?"
   ]
  },
  {
   "cell_type": "markdown",
   "metadata": {},
   "source": [
    "### The tq-System\n",
    "\"_A first step might be to try to solve a simpler, but related problem.\"_\n",
    "\n",
    "**Axiom Schema**: _x_**t**-**q**_x_ is an axiom, whenever x is a hyphen string.\n",
    "\n",
    ">Suppose x = '---'. \n",
    "\n",
    ">Then _x_**t**-**q**_x_.\n",
    "\n",
    ">Substituting the hyphens: ---**t**-**q**---.\n",
    "\n",
    "Play with this a bit and you'll find that _t_ means _\"times\"_ and _q_ is _\"equals.\"_\n",
    "\n",
    "Simply put, this axiom schema says \"Some number _x_ times 1 equals _x_.\"\n",
    "\n",
    "**Rule of Inference**: Suppose _x_, _y_, and _z_ are all hyphen-strings. And suppose _x_**t**_y_**q**_z_ is an old theorem. Then _x_**t**-**q**_zx_ is a new theorem.\n",
    "\n",
    "If we know that **x** _times_ **y** _equals_ **z**, then we can say that **x** _times_ **y+1** _equals_ **z** _plus_ **x**.\n",
    "\n",
    "\n",
    "**Example:**\n",
    "\n",
    "Like above, lets start with _x_ = '---'.\n",
    "\n",
    "_x_**t**-**q** _x_ ( x times 1 equals x).\n",
    "\n",
    "This means, _x_**t**_y_**q**_z_. (Substituting _y_ for '-').\n",
    "\n",
    "So now we have a theorem of the form of _x_**t**_y_**q**_z_. By the **Rule of Inference**, we can say:\n",
    "\n",
    "_x_**t**_y_-**q**_zx_ (3 (**x**) times 2 (**y + 1**) equals 6 (3+3, or x+z). \n",
    "\n"
   ]
  },
  {
   "cell_type": "markdown",
   "metadata": {},
   "source": [
    "## Capturing Compositeness\n",
    "_\"That is because you are a human being, and want to know **why** there is such a rule.\"_"
   ]
  },
  {
   "cell_type": "markdown",
   "metadata": {},
   "source": [
    "Now that we've defined a method for multiplication, let's try to characterize _composite_ numbers.\n",
    "\n",
    "_Quick refresher; a **composite** number is a number is a positive integer that has at least one divisor other than 1 and itself._\n",
    "\n",
    "**Rule:** Suppose _x_, _y_, and _z_ are hyphen-strings. If _x_-**t**_y-_**q**z is a theorem, then **C**_z_ is composite.\n",
    "\n",
    "If (x+1) **times** (q+1) **equals** _z_, then _z_ is composite. \n",
    "\n",
    "Or, the product of two numbers greater than 1 is composite.\n",
    "\n",
    "It's important to realize here that we're talking about symbolic manipulations of hyphens in our formal system here, and not _actual numbers_. We're just representing facts about our formal system in a way we are familiar with (numbers). \n",
    "\n",
    "It's important to keep in mind that these \"facts\" don't go both ways (i.e. we can't make a conclusion about the _tq_ system because of some theorem in number theory because we're using number theory to understand the pq system)."
   ]
  },
  {
   "cell_type": "markdown",
   "metadata": {},
   "source": [
    "## Illegally Characterizing Primes.\n",
    "\n",
    "It would be a fallacy to use the C-type theorem to a P-type theorem.\n",
    "\n",
    "**Proposed Rule:** Suppose _x_ is a hyphen-string. If C_x_ is not a theorem\n",
    "then **P**__x__ is a theorem.\n",
    "\n",
    "We don't have a typographical rule for testing if C_x_ is not a theorem within the _tq_ system itself. To do so would be to entirely miss the point of\n",
    "formal systems.\n",
    "\n",
    "\n",
    "This is equivalent to drawing an analogy between A & B, and using B to draw conclusions about A.\n",
    "\n",
    "Example:\n",
    ">Suppose you have a two sets of numbers {2,3,5,x} and {6,15,21,90} . You notice that in both sets, the sum of the third number is the sum of the first and second. However, you can't conclude that the product of the first and second number is the fourth number in the first set just because that's the case in the second set. \n",
    "\n",
    "Going back to Chapter 1, we had to go into _zen_ mode to say that _MU_ wasn't a theorem (step outside the sytem).\n",
    "\n",
    "Our _Cz_ rule allows us to produce theorems, but it does not give us any mechanism to produce NonTheorems. We might be able to introduce another rule or another system that would allow this, but that would involve changing the system itself.\n",
    "\n",
    "However, all _Cz_ theorems have a common form- they come from the same set of typographical rules of the tq system. Can we look at this common form and attempt to \"see\" the form of nontheorems.\n",
    "\n",
    ">C ---- (4)\n",
    "C ------ (6)\n",
    "C -------- (8)\n",
    "C ---------- (10)\n",
    "\n",
    "All the \"gaps\" in this list are \"nontheorems (primes).\" There's some common qualities, but their exact \"form\" is unclear. \n",
    "\n",
    "The theorems are _positively_ defined, while the _nontheorems_ are negatively defined. \n",
    "\n",
    "![alt text](sm_mailbox.gif \"Figure and Ground\")"
   ]
  },
  {
   "cell_type": "markdown",
   "metadata": {},
   "source": [
    "## Figure and Ground\n",
    "_\"The boundary between the set of truths aand the set of falsities is meant to suggest a randomly meandering coastline which, no matter how close you examine it, always have finer structure of structure, and is consequently impossible to describe in any finite way. \"_\n",
    "\n",
    "\n",
    "This concept of defining things positively and negatively is commonly found in art and design.\n",
    "\n",
    "When a figure (\"positive space\") is drawn inside a frame, an unavoidable consequence is that its complementary shape, the ground (\"negative space\"). This is usually much easier to see in 2-color colorschemes, but the issue of \"color\" is a whole other can of worms that we'll leave closed for now.\n",
    "\n",
    "> Figure and ground in Astronomer design?\n",
    "\n",
    "![alt text](gestalt_figure_ground.jpg \"Figure and Ground\")\n",
    "\n",
    "We can distinguish between two kinds of figures: _cursively drawable_ and _recursively drawable_ ones. \n",
    "\n",
    "**_Cursively_:** A figure whose ground is an accidental by-product of the drawing act.\n",
    "\n",
    "**_Recursively_:** A figure whose ground can be seen as a figure in its own right (usually deliberately). In some sense, recursively drawable figures are \"double cursively drawable.\"\n",
    "\n",
    "These aren't the most rigorous (full-proof) definitions, but it lines up pretty well with intuition. \n",
    "\n",
    "Most line drawings will naturally be cursively drawable, and therefore will not have a ground that takes any recognizable form.\n",
    "\n",
    "In more technical terms:\n",
    "There exist cursively drawable figures which are __not__ recursive.\n",
    "\n",
    "![alt text](figure.gif \"Figure and Ground\")\n",
    "\n",
    "\n",
    "If you read both the black and the white, you can see \"Figure\" and \"Ground,\" but if you were to read one color, you'd see neither. The blackspace can either be characterized as:\n",
    "\n",
    "1) The _negative_ space to white regions.\n",
    "\n",
    "2) The _altered copy_ of white regions (produced by coloring and shifting each white region.\n",
    "\n",
    "And of course, visa-versa. \n",
    "\n",
    "Down the line, this is what the book tries to do with number theory. _Stay tuned._\n",
    "\n",
    "![alt text](theorems_nontheorems.png \"Theorems NonTheorems\")\n",
    "\n",
    ">_The reflected tree represents the set of negations of theorems: all of them false, yet unable collectively to span the space of false statements. That's some deep philosophical shit._\n",
    "\n"
   ]
  },
  {
   "cell_type": "markdown",
   "metadata": {},
   "source": [
    "## Recursively Enumerable Sets vs Recursive Sets\n",
    "_\"How could a figure and it's ground not contain the same information?_"
   ]
  },
  {
   "cell_type": "markdown",
   "metadata": {
    "collapsed": true
   },
   "source": [
    "Going back to the system we set up earlier, positive space is represented by C-type theorems (composites), and therefore primes are negative space.\n",
    "\n",
    "How would we represent primes as _positive space?_\n",
    "\n",
    "In general, if we can represent something as \"negative\" space, shouldn't it always be able to represented in negative space (i.e. in some sort of \"inverted\" system?)\n",
    "\n",
    "Turns out, you can do this for primes, but not for all cases:\n",
    "\n",
    ">There exists formal systems whose negative space  (set of nontheorems) is not the positive space (set of theorems) of any formal system.\n",
    "\n",
    "Which leads to:\n",
    "\n",
    ">There exist recursively enumerable sets which are not recursive.\n",
    "\n",
    "Which _obviously_ implies:\n",
    "\n",
    ">There exist formal systems for which there is no typographical decision procedure.\n",
    "\n",
    "Breaking this down:\n",
    "\n",
    "The first statement implies there are cases in which some figure or object's figure and ground _do not_ carry the same information. \n",
    "\n",
    "(_The below is a bit of a stretch and makes some pretty big logic jumps, but just humor me:)\n",
    "\n",
    "That's like saying if you took all your knowledge about a certain topic (assuming you can encapsulate that as a formal system), and added the inverse of that set of knowledge (everything you don't know about a topic), and combined those two sets, you still wouldn't \"know\" everything about the topic.\n",
    "\n",
    "It's almost like saying if you went into _I_ mode in one _\"direction\"_, and at same time in the _\"opposite\"_ direction, you're still not going to get everything.\n",
    "\n",
    "It's almost like saying that there's knowledge to gain about a topic by studying something else - by bringing in knowledge from another system, by going into a sort of _**zen**_ mode.\n",
    "\n",
    "_And that's not all folks._\n",
    "\n",
    "That leads into the second statement - If a set is _recursively enumerable_ (r.e.), it means it can be generated by some set of rules (like before with __*MIU*__ system) - the  _figure_ of some drawing. A \"recursive set\" is a figure whose ground is also it's own figure.\n",
    "\n",
    "That leads into the last statement - a typographical decision procedure lets us test theorems from nontheorems, and the existence of such a test allows all nontheorems to be generated systematically - just by going down a list of all possible strings.\n",
    "\n",
    "But based on the earlier statement, this isn't possible for some systems.\n",
    "\n",
    "This is a loaded statement - there are systems where you can't just _brute force_ all possible strings to differentiate between theorems and nontheorems. \n",
    "\n",
    "Puzzle: How do you characterize the set of integers:\n",
    "\n",
    "> 1, 3, 7, 12, 18, 26, 35, 45, 56, 69..."
   ]
  },
  {
   "cell_type": "markdown",
   "metadata": {},
   "source": [
    "## Aside on Recursively Enumerable Sets\n",
    "\n",
    "This is one of the sections that Hofstader writes a bit arrogantly and assumes everyone reading has a physics PhD. It's a pretty interesting topic that's better explained with examples, so I'm going to dive into it a bit more (admittedly because I found a great Stack Overflow post about it).\n",
    "\n",
    "Ex 1: _The set of all primes_.\n",
    "\n",
    "You can write an algorithm that checks if a number is prime or not. All optimization and theory aside, the algorithm should always finish and always has a \"yes\" or \"no\" answer. \n",
    "\n",
    "This makes the set of all primes a **_recurisve set_.**\n",
    "\n",
    "Ex 2: _The set of all prime gaps._\n",
    "\n",
    "A _prime gap_ is the difference between 2 consecutive prime numbers, i.e. (11-7 = 4).\n",
    "\n",
    "If a given number is a prime set it, you'll know for sure. However, if it's not, the algorithm will never finish, so you'll never know if it's not. This makes this set **_recursively enumerable_.**\n",
    "\n",
    "A bit more technical, a set _A_ is **_recursively enumerable_** if there exists an algorithm that takes an input, _x_, and finishes **if and only if** the _x_ is a member of _A_. \n",
    "\n",
    "So you can _enumerate_ (list out) all the elements in the set wtih an algorithm (_recursively_). \n",
    "\n",
    "Food for thought: Can you think of an algorithm that never fails to detect an inifinite loop?\n",
    "\n",
    "Real World Example:\n",
    "    When Stalin was in power, the set of good Soviet government policies were like a recursively enumerable set. There was someone who was one of the advisers for the government. Stalin would ask him, \"I have an idea for a new policy. The idea is blah blah blah. Is this a good policy?\" A simple yes or no question. He would answer yes after a few days of analysis showed that the policy was indeed good. What if the policy was bad? He had the principle of \"don't lie ever\", but he also knew what happens to those who say no to Stalin. Whenever Stalin said \"Have you decided whether the policy is good? It's been months since I asked for your opinion on that.\" and he would say \"Give me more time to think, comrade Stalin.\"\n",
    "    \n",
    "The way I like to think of it (which isn't always technically correct):\n",
    "\n",
    "\n"
   ]
  },
  {
   "cell_type": "markdown",
   "metadata": {
    "collapsed": true
   },
   "source": [
    "## Primes as Figures Rather than Ground\n",
    "\n",
    "Consider this axion schema:\n",
    "\n",
    "**Axion Schema:** _xy_**DND**_x_ where _x_ and _y_ are hyphen-strings.\n",
    "\n",
    "Ex: x = '---' and y = '--' , so -----**DND**--\n",
    "\n",
    "Rule: If _x_**DND**_y_ is a theorem, then so is _x_**DND**_xy_. \n",
    "\n",
    "This is a bit more convoluted than some of the other systems so far, but play around with it, it reveals itself to be saying:\n",
    "\n",
    ">If a number (x) doesn't divide another number (y), then x doesn't divide (x+y).\n",
    "\n"
   ]
  },
  {
   "cell_type": "markdown",
   "metadata": {},
   "source": [
    "This system generally captures the notion of _nondivisibility_. We can build off of this to try and determine if a number is prime or not. \n",
    "To say it in terms of a formal system:\n",
    "\n",
    "**Rule:** If --**DND**_z_ is a theorem, so is _z_**DF**--.\n",
    ">The first rule, --**DND**_z_ is a theorem, then so is _z_**DF**--, states that if 2 doesn't divide a number, then that number is divisor free up to 2. \n",
    "\n",
    "**Rule:** If _z_**DF**_x_ is a theorem and also _x_-**DND**_z_ is a theorem, then _z_**DF**_x_- is a theorem.\n",
    ">If a number _z_ is divisor free until _x_, and (_x_+1) does not divide _z_ is a theorem, then _z_ is divisor free until (_x_+1). \n",
    "\n",
    "These rules capture the notion of _divisor-freeness_ (**DF**).  So now we can just adda rule to say that primes are numbers that are divisor free up to 1 less than themselves:\n",
    "\n",
    "**Rule:** If _z_-**DF**_z_ is a theorem, then **P**_z_- is a theorem.\n",
    "\n",
    "And throwing in a rule for 2:\n",
    "\n",
    "**Axiom:** **P**--"
   ]
  },
  {
   "cell_type": "markdown",
   "metadata": {},
   "source": [
    "Lot of stuff up there, so breakding it down:\n",
    "\n",
    "\n",
    "Suppose _z_ = 7. The first rule says that if 2 doesn't divide 7, then 7 is divisor free until 2. This checks out.\n",
    "\n",
    "Suppose _x_ = 4. By the second rule, if 7 is divisor free until 4, and 5 (4+1) doesn't divide 7, then 7 is divisor free until 5.\n",
    "\n",
    "\n",
    "This system solves the issue with the system from before - we can represent primes as the _figure_ without any backtracking that we saw in the last system. Startign wtih 2, we can march up the numbers monotonically to capture this notion of primality as _positive space_. \n",
    "\n",
    "I don't really know what this last part means, so I'm just going to put it her verbatim:\n",
    ">And it is this potentialy complexity of formal systems to involve arbitrary amounts of backwards and forwards interference that is responsible for such limitative results as Godel's Theorem, Turing's Halting Problem, and the fact that not all recursively enumerable syste are recursive.\n",
    "\n",
    "\n",
    "This was a pretty meaty chapter, so kudos to everyone whose stuck around."
   ]
  }
 ],
 "metadata": {
  "anaconda-cloud": {},
  "kernelspec": {
   "display_name": "Python [default]",
   "language": "python",
   "name": "python2"
  },
  "language_info": {
   "codemirror_mode": {
    "name": "ipython",
    "version": 2
   },
   "file_extension": ".py",
   "mimetype": "text/x-python",
   "name": "python",
   "nbconvert_exporter": "python",
   "pygments_lexer": "ipython2",
   "version": "2.7.12"
  }
 },
 "nbformat": 4,
 "nbformat_minor": 2
}
